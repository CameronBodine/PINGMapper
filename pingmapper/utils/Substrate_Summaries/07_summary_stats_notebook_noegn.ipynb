{
 "cells": [
  {
   "cell_type": "markdown",
   "metadata": {},
   "source": [
    "This notebook is designed to generate the map statistics presented in the gulf sturgeon substrate manuscript."
   ]
  },
  {
   "cell_type": "code",
   "execution_count": 1,
   "metadata": {},
   "outputs": [
    {
     "data": {
      "text/plain": [
       "<pandas._config.config.option_context at 0x2c1ce618fb0>"
      ]
     },
     "execution_count": 1,
     "metadata": {},
     "output_type": "execute_result"
    }
   ],
   "source": [
    "#########\n",
    "# Imports\n",
    "import sys, os\n",
    "import numpy as np\n",
    "import geopandas as gpd\n",
    "import pandas as pd\n",
    "from glob import glob\n",
    "\n",
    "pd.option_context('display.max_rows', None, 'display.max_columns', None)"
   ]
  },
  {
   "cell_type": "markdown",
   "metadata": {},
   "source": [
    "Get the paths to the shapefiles. Shapefiles with `proc` in their name have been post-processed in ArcGIS."
   ]
  },
  {
   "cell_type": "code",
   "execution_count": 2,
   "metadata": {},
   "outputs": [
    {
     "name": "stdout",
     "output_type": "stream",
     "text": [
      "['D:\\\\redbo_science\\\\projects\\\\GulfSturgeonProject_2025\\\\ProcessedData\\\\Substrate_Summaries\\\\02_Substrate_Shps_Mosaic_Transects\\\\Raw\\\\BCH_substrate_shps_mosaic_postproc.shp', 'D:\\\\redbo_science\\\\projects\\\\GulfSturgeonProject_2025\\\\ProcessedData\\\\Substrate_Summaries\\\\02_Substrate_Shps_Mosaic_Transects\\\\Raw\\\\BOU_substrate_shps_mosaic_postproc.shp', 'D:\\\\redbo_science\\\\projects\\\\GulfSturgeonProject_2025\\\\ProcessedData\\\\Substrate_Summaries\\\\02_Substrate_Shps_Mosaic_Transects\\\\Raw\\\\CHI_substrate_shps_mosaic_postproc.shp', 'D:\\\\redbo_science\\\\projects\\\\GulfSturgeonProject_2025\\\\ProcessedData\\\\Substrate_Summaries\\\\02_Substrate_Shps_Mosaic_Transects\\\\Raw\\\\CHU_substrate_shps_mosaic_postproc.shp', 'D:\\\\redbo_science\\\\projects\\\\GulfSturgeonProject_2025\\\\ProcessedData\\\\Substrate_Summaries\\\\02_Substrate_Shps_Mosaic_Transects\\\\Raw\\\\LEA_substrate_shps_mosaic_postproc.shp', 'D:\\\\redbo_science\\\\projects\\\\GulfSturgeonProject_2025\\\\ProcessedData\\\\Substrate_Summaries\\\\02_Substrate_Shps_Mosaic_Transects\\\\Raw\\\\PAS_substrate_shps_mosaic_postproc.shp', 'D:\\\\redbo_science\\\\projects\\\\GulfSturgeonProject_2025\\\\ProcessedData\\\\Substrate_Summaries\\\\02_Substrate_Shps_Mosaic_Transects\\\\Raw\\\\PRL_substrate_shps_mosaic_postproc.shp']\n"
     ]
    }
   ],
   "source": [
    "shpTopDir = r'D:\\redbo_science\\projects\\GulfSturgeonProject_2025\\ProcessedData\\Substrate_Summaries\\02_Substrate_Shps_Mosaic_Transects'\n",
    "shpTopDir = os.path.normpath(shpTopDir)\n",
    "\n",
    "# Get Raw Shps\n",
    "rawShpFiles = glob(os.path.join(shpTopDir, 'Raw', '*proc.shp'))\n",
    "print(rawShpFiles)"
   ]
  },
  {
   "cell_type": "markdown",
   "metadata": {},
   "source": [
    "# Prep Dataframes"
   ]
  },
  {
   "cell_type": "code",
   "execution_count": 3,
   "metadata": {},
   "outputs": [],
   "source": [
    "def getBasin(river):\n",
    "    prl = 'Pearl Basin'\n",
    "    pas = 'Pascagoula Basin'\n",
    "\n",
    "    if river == 'BCH':\n",
    "        basin = prl\n",
    "    elif river == 'PRL':\n",
    "        basin = prl\n",
    "    elif river == 'BOU':\n",
    "        basin = pas\n",
    "    elif river == 'LEA':\n",
    "        basin = pas\n",
    "    elif river == 'PAS':\n",
    "        basin = pas\n",
    "    elif river == 'CHI':\n",
    "        basin = pas\n",
    "    elif river == 'CHU':\n",
    "        basin = pas\n",
    "    else:\n",
    "        basin = 'UNKNOWN'\n",
    "    return basin"
   ]
  },
  {
   "cell_type": "code",
   "execution_count": 4,
   "metadata": {},
   "outputs": [],
   "source": [
    "# Function to open dataframe, get river code from name, and populate attributes\n",
    "def getShp(f):\n",
    "    river = os.path.basename(f).split('_')[0]\n",
    "    model = os.path.basename(os.path.dirname(f))\n",
    "    basin = getBasin(river)\n",
    "    \n",
    "    df = gpd.read_file(f)\n",
    "    df['river'] = river\n",
    "    df['model'] = model\n",
    "    df['basin'] = basin\n",
    "\n",
    "    # Calculate area in hectars\n",
    "    df['Area_m'] = df.geometry.area\n",
    "    df['Area_ha'] = df['Area_m']*0.0001\n",
    "\n",
    "    return df"
   ]
  },
  {
   "cell_type": "code",
   "execution_count": 5,
   "metadata": {},
   "outputs": [
    {
     "name": "stdout",
     "output_type": "stream",
     "text": [
      "       Substrate          Name      Area_m  ORIG_FID  Shape_Leng  Shape_Area  \\\n",
      "0            1.0  Fines Ripple   63.618457         1   37.686595   63.618457   \n",
      "1            1.0  Fines Ripple  162.101403         2   88.098544  162.101403   \n",
      "2            1.0  Fines Ripple   37.508845         5   38.489075   37.508845   \n",
      "3            1.0  Fines Ripple   32.812989        10   54.857478   32.812989   \n",
      "4            1.0  Fines Ripple   33.158594        34   32.868156   33.158594   \n",
      "...          ...           ...         ...       ...         ...         ...   \n",
      "67810        6.0         Other   35.234502     34395   65.827676   35.234502   \n",
      "67811        6.0         Other   51.867065     34397   72.238404   51.867065   \n",
      "67812        6.0         Other   28.242339     34398   44.936911   28.242339   \n",
      "67813        6.0         Other   40.788610     34399   53.086000   40.788610   \n",
      "67814        6.0         Other   36.838705     34400   41.240707   36.838705   \n",
      "\n",
      "                                                geometry river model  \\\n",
      "0      POLYGON ((228878 3384871, 228878.013 3384870.8...   BCH   Raw   \n",
      "1      POLYGON ((228718 3385129.25, 228717.624 338512...   BCH   Raw   \n",
      "2      POLYGON ((228845.527 3385178.652, 228845.471 3...   BCH   Raw   \n",
      "3      POLYGON ((228406 3385253.25, 228406.38 3385253...   BCH   Raw   \n",
      "4      POLYGON ((229006.138 3385344.488, 229006.157 3...   BCH   Raw   \n",
      "...                                                  ...   ...   ...   \n",
      "67810  POLYGON ((209105.437 3587672.972, 209105.423 3...   PRL   Raw   \n",
      "67811  POLYGON ((210982.8 3587716.733, 210982.543 358...   PRL   Raw   \n",
      "67812  POLYGON ((209084.252 3587728.254, 209085.68 35...   PRL   Raw   \n",
      "67813  POLYGON ((208832.276 3587771.962, 208831.984 3...   PRL   Raw   \n",
      "67814  POLYGON ((208744.859 3587807.18, 208744.563 35...   PRL   Raw   \n",
      "\n",
      "             basin   Area_ha  \n",
      "0      Pearl Basin  0.006362  \n",
      "1      Pearl Basin  0.016210  \n",
      "2      Pearl Basin  0.003751  \n",
      "3      Pearl Basin  0.003281  \n",
      "4      Pearl Basin  0.003316  \n",
      "...            ...       ...  \n",
      "67810  Pearl Basin  0.003523  \n",
      "67811  Pearl Basin  0.005187  \n",
      "67812  Pearl Basin  0.002824  \n",
      "67813  Pearl Basin  0.004079  \n",
      "67814  Pearl Basin  0.003684  \n",
      "\n",
      "[67815 rows x 11 columns]\n"
     ]
    }
   ],
   "source": [
    "# Get raw shapefiles to gdf\n",
    "for i, f in enumerate(rawShpFiles):\n",
    "    df = getShp(f)\n",
    "    if i == 0:\n",
    "        rawAll = df\n",
    "    else:\n",
    "        rawAll = pd.concat([rawAll, df], ignore_index=True)\n",
    "\n",
    "print(rawAll)"
   ]
  },
  {
   "cell_type": "markdown",
   "metadata": {},
   "source": [
    "# Find the total mapped area for the study. \n",
    "Use the Raw shapefile"
   ]
  },
  {
   "cell_type": "code",
   "execution_count": 6,
   "metadata": {},
   "outputs": [],
   "source": [
    "df = rawAll"
   ]
  },
  {
   "cell_type": "code",
   "execution_count": 7,
   "metadata": {},
   "outputs": [
    {
     "name": "stdout",
     "output_type": "stream",
     "text": [
      "Total Mapped Area: 7391.0\n"
     ]
    }
   ],
   "source": [
    "# Total mapped area\n",
    "totalArea = np.sum(df['Area_ha'].to_numpy())\n",
    "print('Total Mapped Area:', np.around(totalArea, 0))"
   ]
  },
  {
   "cell_type": "code",
   "execution_count": 8,
   "metadata": {},
   "outputs": [
    {
     "name": "stdout",
     "output_type": "stream",
     "text": [
      "Pascagoula Mapped Area: 3223.0\n"
     ]
    }
   ],
   "source": [
    "# Pascagoula basin total area\n",
    "pasTotalArea = np.sum(df.loc[df['basin'] == 'Pascagoula Basin', 'Area_ha'].to_numpy())\n",
    "print('Pascagoula Mapped Area:', np.around(pasTotalArea, 0))"
   ]
  },
  {
   "cell_type": "code",
   "execution_count": 9,
   "metadata": {},
   "outputs": [
    {
     "name": "stdout",
     "output_type": "stream",
     "text": [
      "Pearl Mapped Area: 4169.0\n"
     ]
    }
   ],
   "source": [
    "# Pearl basin total area\n",
    "prlTotalArea = np.sum(df.loc[df['basin'] == 'Pearl Basin', 'Area_ha'].to_numpy())\n",
    "print('Pearl Mapped Area:', np.around(prlTotalArea, 0))"
   ]
  },
  {
   "cell_type": "code",
   "execution_count": 10,
   "metadata": {},
   "outputs": [
    {
     "name": "stdout",
     "output_type": "stream",
     "text": [
      "BCH Mapped Area: 567.0\n",
      "BOU Mapped Area: 115.0\n",
      "CHI Mapped Area: 1415.0\n",
      "CHU Mapped Area: 88.0\n",
      "LEA Mapped Area: 1172.0\n",
      "PAS Mapped Area: 433.0\n",
      "PRL Mapped Area: 3602.0\n"
     ]
    }
   ],
   "source": [
    "# Find each rivers mapped area\n",
    "riv = df['river'].unique()\n",
    "rivAreaTotal = {}\n",
    "for r in riv:\n",
    "    t = np.sum(df.loc[df['river'] == r, 'Area_ha'].to_numpy())\n",
    "    rivAreaTotal[r] = np.around(t, 0)\n",
    "\n",
    "for k, v in rivAreaTotal.items():\n",
    "    print(k, 'Mapped Area:', v)\n"
   ]
  },
  {
   "cell_type": "markdown",
   "metadata": {},
   "source": [
    "# Get Polygon Counts and Proportions\n",
    "Work on Raw shapefile first"
   ]
  },
  {
   "cell_type": "code",
   "execution_count": 11,
   "metadata": {},
   "outputs": [],
   "source": [
    "df = rawAll"
   ]
  },
  {
   "cell_type": "code",
   "execution_count": 12,
   "metadata": {},
   "outputs": [
    {
     "name": "stdout",
     "output_type": "stream",
     "text": [
      "   river       substrate  total_poly  min_poly_m  max_poly_m  total_poly_m\n",
      "0    BCH    Fines Ripple         677        28.9    280033.4     3030138.5\n",
      "1    BCH      Fines Flat        1680        28.4     48325.8     1869999.5\n",
      "2    BCH  Cobble Boulder         384         4.8      2558.9       32059.3\n",
      "3    BCH     Hard Bottom         741        28.3      4558.2      208632.2\n",
      "4    BCH            Wood        3256         3.1      2829.1      443423.5\n",
      "5    BCH           Other        1037        28.2      1075.3       80819.1\n",
      "6    BOU    Fines Ripple          41        31.0    430745.5      568199.0\n",
      "7    BOU      Fines Flat         467        29.2    123545.6      337532.0\n",
      "8    BOU  Cobble Boulder         146         3.1       568.2        9414.3\n",
      "9    BOU     Hard Bottom         218        28.3     16031.8      143268.1\n",
      "10   BOU            Wood         665         3.5      1684.4       80852.6\n",
      "11   BOU           Other         181        28.3       431.1       13652.4\n",
      "12   CHI    Fines Ripple         979        28.0   3696010.5    10191014.0\n",
      "13   CHI      Fines Flat        3752        28.1     18989.2     1347963.4\n",
      "14   CHI  Cobble Boulder         552         3.7      1466.0       32391.1\n",
      "15   CHI     Hard Bottom        2147        28.3     41271.4     1483348.3\n",
      "16   CHI            Wood        5105         3.1      6829.8      884006.9\n",
      "17   CHI           Other        2366        28.0      1429.1      214253.1\n",
      "18   CHU    Fines Ripple         148        28.3     12546.9      139482.7\n",
      "19   CHU      Fines Flat         317        29.1      5736.9       88695.0\n",
      "20   CHU  Cobble Boulder          89         6.8       493.1        4051.6\n",
      "21   CHU     Hard Bottom          85        30.4    294424.1      621298.8\n",
      "22   CHU            Wood         388         4.0      1081.7       22502.4\n",
      "23   CHU           Other          79        28.5       212.8        4266.6\n",
      "24   LEA    Fines Ripple         519        28.4   1800748.0     8867631.7\n",
      "25   LEA      Fines Flat        2624        28.1     48036.5     1219821.6\n",
      "26   LEA  Cobble Boulder         383         3.2      1456.4       27569.1\n",
      "27   LEA     Hard Bottom         978        28.1     28011.0      812545.7\n",
      "28   LEA            Wood        3588         3.5      7131.7      653294.7\n",
      "29   LEA           Other        1579        28.1       830.1      135544.5\n",
      "30   PAS    Fines Ripple         254        28.2   1509827.5     3505258.8\n",
      "31   PAS      Fines Flat         789        28.1     22600.1      489761.8\n",
      "32   PAS  Cobble Boulder          37         6.4       181.7        1587.5\n",
      "33   PAS     Hard Bottom         243        29.4      9651.6       79937.5\n",
      "34   PAS            Wood         592         4.4      6999.0      221652.4\n",
      "35   PAS           Other         289        28.6      1098.8       28548.7\n",
      "36   PRL    Fines Ripple        3084        28.1   3693297.5    19526615.5\n",
      "37   PRL      Fines Flat        5842        28.0    216536.6    11533778.9\n",
      "38   PRL  Cobble Boulder        1276         3.1      2385.9       88301.1\n",
      "39   PRL     Hard Bottom        5664        28.1    160044.5     2833760.2\n",
      "40   PRL            Wood       12902         3.0      7920.6     1912198.1\n",
      "41   PRL           Other        1672        28.0       556.1      125849.7\n"
     ]
    }
   ],
   "source": [
    "shpTotal = pd.DataFrame()\n",
    "rivers = df['river'].unique()\n",
    "substrate = df['Name'].unique()\n",
    "\n",
    "for r in rivers:\n",
    "    sub = {}\n",
    "    for s in substrate:\n",
    "        sub['river'] = [r]\n",
    "        sub['substrate'] = [s]\n",
    "        dfSlice = df.loc[(df['river'] == r) & (df['Name'] == s), ['Area_m']]\n",
    "\n",
    "        sub['total_poly'] = [len(dfSlice)]\n",
    "        sub['min_poly_m'] = [np.around(np.min(dfSlice), 1)]\n",
    "        sub['max_poly_m'] = [np.around(np.max(dfSlice), 1)]\n",
    "        sub['total_poly_m'] = [np.around(np.sum(dfSlice['Area_m']), 1)]\n",
    "        \n",
    "        sub = pd.DataFrame.from_dict(sub)\n",
    "        shpTotal = pd.concat([shpTotal, sub], ignore_index=True)\n",
    "\n",
    "    \n",
    "print(shpTotal)       \n"
   ]
  },
  {
   "cell_type": "code",
   "execution_count": 13,
   "metadata": {},
   "outputs": [
    {
     "name": "stdout",
     "output_type": "stream",
     "text": [
      "Raw\n",
      "Model Polygon Summary\n",
      "Total Polygons: 67815 \tMin Area: 3.0 \tMax Area: 3696010.5 \n",
      "\n",
      "\n",
      "BCH \tTotal Polygons: 7775 \tMin Area: 3.1 \tMax Area: 280033.4\n",
      "\n",
      "\n",
      "\n",
      "BOU \tTotal Polygons: 1718 \tMin Area: 3.1 \tMax Area: 430745.5\n",
      "\n",
      "\n",
      "\n",
      "CHI \tTotal Polygons: 14901 \tMin Area: 3.1 \tMax Area: 3696010.5\n",
      "\n",
      "\n",
      "\n",
      "CHU \tTotal Polygons: 1106 \tMin Area: 4.0 \tMax Area: 294424.1\n",
      "\n",
      "\n",
      "\n",
      "LEA \tTotal Polygons: 9671 \tMin Area: 3.2 \tMax Area: 1800748.0\n",
      "\n",
      "\n",
      "\n",
      "PAS \tTotal Polygons: 2204 \tMin Area: 4.4 \tMax Area: 1509827.5\n",
      "\n",
      "\n",
      "\n",
      "PRL \tTotal Polygons: 30440 \tMin Area: 3.0 \tMax Area: 3693297.5\n",
      "\n",
      "\n",
      "\n",
      "substrate  Cobble Boulder  Fines Flat  Fines Ripple  Hard Bottom  Other  Wood  \\\n",
      "river                                                                           \n",
      "BCH                   0.6        33.0          53.5          3.7    1.4   7.8   \n",
      "BOU                   0.8        29.3          49.3         12.4    1.2   7.0   \n",
      "CHI                   0.2         9.5          72.0         10.5    1.5   6.2   \n",
      "CHU                   0.5        10.1          15.8         70.6    0.5   2.6   \n",
      "LEA                   0.2        10.4          75.7          6.9    1.2   5.6   \n",
      "PAS                   0.0        11.3          81.0          1.8    0.7   5.1   \n",
      "PRL                   0.2        32.0          54.2          7.9    0.3   5.3   \n",
      "\n",
      "substrate     total_m  Soft  Hard  \n",
      "river                              \n",
      "BCH         5665072.1  86.5   4.3  \n",
      "BOU         1152918.4  78.6  13.2  \n",
      "CHI        14152976.8  81.5  10.7  \n",
      "CHU          880297.1  25.9  71.1  \n",
      "LEA        11716407.3  86.1   7.1  \n",
      "PAS         4326746.7  92.3   1.8  \n",
      "PRL        36020503.5  86.2   8.1  \n"
     ]
    }
   ],
   "source": [
    "print('Raw')\n",
    "print('Model Polygon Summary')\n",
    "df = shpTotal\n",
    "\n",
    "t = np.sum(df['total_poly'].to_numpy())\n",
    "min = np.min(df['min_poly_m'].to_numpy())\n",
    "max = np.max(df['max_poly_m'].to_numpy())\n",
    "\n",
    "print('Total Polygons:', t, '\\tMin Area:', min, '\\tMax Area:', max, '\\n\\n')\n",
    "\n",
    "shpProp = pd.DataFrame()\n",
    "rivers = df['river'].unique()\n",
    "for r in rivers:\n",
    "    dfSlice = df.loc[df['river'] == r]\n",
    "\n",
    "    t = np.sum(dfSlice['total_poly'].to_numpy())\n",
    "    min = np.min(dfSlice['min_poly_m'].to_numpy())\n",
    "    max = np.max(dfSlice['max_poly_m'].to_numpy())\n",
    "\n",
    "    print(r, '\\tTotal Polygons:', t, '\\tMin Area:', min, '\\tMax Area:', max)\n",
    "\n",
    "    dfSlice = dfSlice.pivot(index='river', columns=['substrate'])['total_poly_m']\n",
    "    shpProp = pd.concat([shpProp, dfSlice])\n",
    "\n",
    "    print('\\n\\n')\n",
    "\n",
    "substrates = shpProp.columns\n",
    "shpProp['total_m'] = shpProp.sum(axis=1)\n",
    "\n",
    "for s in substrates:\n",
    "    shpProp[s] = np.around((shpProp[s]/shpProp['total_m'])*100, 1)\n",
    "shpProp['Soft'] = shpProp['Fines Flat'] + shpProp['Fines Ripple']\n",
    "shpProp['Hard'] = shpProp['Cobble Boulder'] + shpProp['Hard Bottom']\n",
    "print(shpProp)\n",
    "\n",
    "rawFR = shpProp['Fines Ripple']\n",
    "rawFF = shpProp['Fines Flat']\n",
    "rawCB = shpProp['Cobble Boulder']\n",
    "rawHB = shpProp['Hard Bottom']\n",
    "rawWD = shpProp['Wood']\n",
    "rawSoft = shpProp['Soft']\n",
    "rawHard = shpProp['Hard']\n"
   ]
  }
 ],
 "metadata": {
  "kernelspec": {
   "display_name": "ping",
   "language": "python",
   "name": "python3"
  },
  "language_info": {
   "codemirror_mode": {
    "name": "ipython",
    "version": 3
   },
   "file_extension": ".py",
   "mimetype": "text/x-python",
   "name": "python",
   "nbconvert_exporter": "python",
   "pygments_lexer": "ipython3",
   "version": "3.12.11"
  }
 },
 "nbformat": 4,
 "nbformat_minor": 2
}
