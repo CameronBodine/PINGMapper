{
 "cells": [
  {
   "cell_type": "markdown",
   "metadata": {},
   "source": [
    "This notebook is designed to generate the map statistics presented in the gulf sturgeon substrate manuscript."
   ]
  },
  {
   "cell_type": "code",
   "execution_count": 1,
   "metadata": {},
   "outputs": [
    {
     "data": {
      "text/plain": [
       "<pandas._config.config.option_context at 0x21fb2089880>"
      ]
     },
     "execution_count": 1,
     "metadata": {},
     "output_type": "execute_result"
    }
   ],
   "source": [
    "#########\n",
    "# Imports\n",
    "import sys, os\n",
    "import numpy as np\n",
    "import geopandas as gpd\n",
    "import pandas as pd\n",
    "from glob import glob\n",
    "\n",
    "pd.option_context('display.max_rows', None, 'display.max_columns', None)"
   ]
  },
  {
   "cell_type": "markdown",
   "metadata": {},
   "source": [
    "Get the paths to the shapefiles. Shapefiles with `proc` in their name have been post-processed in ArcGIS."
   ]
  },
  {
   "cell_type": "code",
   "execution_count": null,
   "metadata": {},
   "outputs": [
    {
     "name": "stdout",
     "output_type": "stream",
     "text": [
      "['E:\\\\SynologyDrive\\\\GulfSturgeonProject\\\\SSS_Data_Processed\\\\Substrate_Summaries\\\\02_Substrate_Shps_Mosaic_Transects\\\\EGN\\\\BCH_substrate_shps_mosaic_postproc.shp', 'E:\\\\SynologyDrive\\\\GulfSturgeonProject\\\\SSS_Data_Processed\\\\Substrate_Summaries\\\\02_Substrate_Shps_Mosaic_Transects\\\\EGN\\\\BOU_substrate_shps_mosaic_postproc.shp', 'E:\\\\SynologyDrive\\\\GulfSturgeonProject\\\\SSS_Data_Processed\\\\Substrate_Summaries\\\\02_Substrate_Shps_Mosaic_Transects\\\\EGN\\\\CHI_substrate_shps_mosaic_postproc.shp', 'E:\\\\SynologyDrive\\\\GulfSturgeonProject\\\\SSS_Data_Processed\\\\Substrate_Summaries\\\\02_Substrate_Shps_Mosaic_Transects\\\\EGN\\\\CHU_substrate_shps_mosaic_postproc.shp', 'E:\\\\SynologyDrive\\\\GulfSturgeonProject\\\\SSS_Data_Processed\\\\Substrate_Summaries\\\\02_Substrate_Shps_Mosaic_Transects\\\\EGN\\\\LEA_substrate_shps_mosaic_postproc.shp', 'E:\\\\SynologyDrive\\\\GulfSturgeonProject\\\\SSS_Data_Processed\\\\Substrate_Summaries\\\\02_Substrate_Shps_Mosaic_Transects\\\\EGN\\\\PAS_substrate_shps_mosaic_postproc.shp', 'E:\\\\SynologyDrive\\\\GulfSturgeonProject\\\\SSS_Data_Processed\\\\Substrate_Summaries\\\\02_Substrate_Shps_Mosaic_Transects\\\\EGN\\\\PRL_substrate_shps_mosaic_postproc.shp']\n",
      "['E:\\\\SynologyDrive\\\\GulfSturgeonProject\\\\SSS_Data_Processed\\\\Substrate_Summaries\\\\02_Substrate_Shps_Mosaic_Transects\\\\Raw\\\\BCH_substrate_shps_mosaic_postproc.shp', 'E:\\\\SynologyDrive\\\\GulfSturgeonProject\\\\SSS_Data_Processed\\\\Substrate_Summaries\\\\02_Substrate_Shps_Mosaic_Transects\\\\Raw\\\\BOU_substrate_shps_mosaic_postproc.shp', 'E:\\\\SynologyDrive\\\\GulfSturgeonProject\\\\SSS_Data_Processed\\\\Substrate_Summaries\\\\02_Substrate_Shps_Mosaic_Transects\\\\Raw\\\\CHI_substrate_shps_mosaic_postproc.shp', 'E:\\\\SynologyDrive\\\\GulfSturgeonProject\\\\SSS_Data_Processed\\\\Substrate_Summaries\\\\02_Substrate_Shps_Mosaic_Transects\\\\Raw\\\\CHU_substrate_shps_mosaic_postproc.shp', 'E:\\\\SynologyDrive\\\\GulfSturgeonProject\\\\SSS_Data_Processed\\\\Substrate_Summaries\\\\02_Substrate_Shps_Mosaic_Transects\\\\Raw\\\\LEA_substrate_shps_mosaic_postproc.shp', 'E:\\\\SynologyDrive\\\\GulfSturgeonProject\\\\SSS_Data_Processed\\\\Substrate_Summaries\\\\02_Substrate_Shps_Mosaic_Transects\\\\Raw\\\\PAS_substrate_shps_mosaic_postproc.shp', 'E:\\\\SynologyDrive\\\\GulfSturgeonProject\\\\SSS_Data_Processed\\\\Substrate_Summaries\\\\02_Substrate_Shps_Mosaic_Transects\\\\Raw\\\\PRL_substrate_shps_mosaic_postproc.shp']\n"
     ]
    }
   ],
   "source": [
    "shpTopDir = r'D:\\redbo_science\\projects\\GulfSturgeonProject_2025\\ProcessedData\\Substrate_Summaries\\02_Substrate_Shps_Mosaic_Transects'\n",
    "shpTopDir = os.path.normpath(shpTopDir)\n",
    "# # Get EGN shps\n",
    "# egnShpFiles = glob(os.path.join(shpTopDir, 'EGN', '*proc.shp'))\n",
    "# print(egnShpFiles)\n",
    "\n",
    "# Get Raw Shps\n",
    "rawShpFiles = glob(os.path.join(shpTopDir, 'Raw', '*proc.shp'))\n",
    "print(rawShpFiles)"
   ]
  },
  {
   "cell_type": "markdown",
   "metadata": {},
   "source": [
    "# Prep Dataframes"
   ]
  },
  {
   "cell_type": "code",
   "execution_count": 38,
   "metadata": {},
   "outputs": [],
   "source": [
    "def getBasin(river):\n",
    "    prl = 'Pearl Basin'\n",
    "    pas = 'Pascagoula Basin'\n",
    "\n",
    "    if river == 'BCH':\n",
    "        basin = prl\n",
    "    elif river == 'PRL':\n",
    "        basin = prl\n",
    "    elif river == 'BOU':\n",
    "        basin = pas\n",
    "    elif river == 'LEA':\n",
    "        basin = pas\n",
    "    elif river == 'PAS':\n",
    "        basin = pas\n",
    "    elif river == 'CHI':\n",
    "        basin = pas\n",
    "    elif river == 'CHU':\n",
    "        basin = pas\n",
    "    else:\n",
    "        basin = 'UNKNOWN'\n",
    "    return basin"
   ]
  },
  {
   "cell_type": "code",
   "execution_count": 40,
   "metadata": {},
   "outputs": [],
   "source": [
    "# Function to open dataframe, get river code from name, and populate attributes\n",
    "def getShp(f):\n",
    "    river = os.path.basename(f).split('_')[0]\n",
    "    model = os.path.basename(os.path.dirname(f))\n",
    "    basin = getBasin(river)\n",
    "    \n",
    "    df = gpd.read_file(f)\n",
    "    df['river'] = river\n",
    "    df['model'] = model\n",
    "    df['basin'] = basin\n",
    "\n",
    "    # Calculate area in hectars\n",
    "    df['Area_m'] = df.geometry.area\n",
    "    df['Area_ha'] = df['Area_m']*0.0001\n",
    "\n",
    "    return df"
   ]
  },
  {
   "cell_type": "code",
   "execution_count": null,
   "metadata": {},
   "outputs": [
    {
     "name": "stdout",
     "output_type": "stream",
     "text": [
      "       Substrate          Name      Area_m  ORIG_FID  Shape_Leng  Shape_Area  \\\n",
      "0            1.0  Fines Ripple   73.346198         1   39.931794   73.346198   \n",
      "1            1.0  Fines Ripple  665.473590         4  250.726137  665.473590   \n",
      "2            1.0  Fines Ripple   64.828920         5   34.678850   64.828920   \n",
      "3            1.0  Fines Ripple   50.861519         9   34.894188   50.861519   \n",
      "4            1.0  Fines Ripple   59.763020        10   44.072426   59.763020   \n",
      "...          ...           ...         ...       ...         ...         ...   \n",
      "41429        6.0         Other   52.920486     21561   65.187730   52.920486   \n",
      "41430        6.0         Other   35.028880     21562   60.113561   35.028880   \n",
      "41431        6.0         Other   39.185818     21563   75.556242   39.185818   \n",
      "41432        6.0         Other   41.075668     21565   59.459670   41.075668   \n",
      "41433        6.0         Other   37.684611     21567   45.647350   37.684611   \n",
      "\n",
      "                                                geometry river model  \\\n",
      "0      POLYGON ((228747.880 3385163.625, 228748.000 3...   BCH   EGN   \n",
      "1      POLYGON ((228918.644 3385218.913, 228918.269 3...   BCH   EGN   \n",
      "2      POLYGON ((228494.250 3385267.750, 228494.362 3...   BCH   EGN   \n",
      "3      POLYGON ((228111.750 3385486.250, 228111.932 3...   BCH   EGN   \n",
      "4      POLYGON ((228047.750 3385578.250, 228047.524 3...   BCH   EGN   \n",
      "...                                                  ...   ...   ...   \n",
      "41429  POLYGON ((202835.832 3579481.828, 202836.123 3...   PRL   EGN   \n",
      "41430  POLYGON ((203019.537 3580002.217, 203019.523 3...   PRL   EGN   \n",
      "41431  POLYGON ((203322.533 3580631.116, 203321.747 3...   PRL   EGN   \n",
      "41432  POLYGON ((206121.742 3582154.518, 206121.858 3...   PRL   EGN   \n",
      "41433  POLYGON ((207874.461 3584946.607, 207877.897 3...   PRL   EGN   \n",
      "\n",
      "             basin   Area_ha  \n",
      "0      Pearl Basin  0.007335  \n",
      "1      Pearl Basin  0.066547  \n",
      "2      Pearl Basin  0.006483  \n",
      "3      Pearl Basin  0.005086  \n",
      "4      Pearl Basin  0.005976  \n",
      "...            ...       ...  \n",
      "41429  Pearl Basin  0.005292  \n",
      "41430  Pearl Basin  0.003503  \n",
      "41431  Pearl Basin  0.003919  \n",
      "41432  Pearl Basin  0.004108  \n",
      "41433  Pearl Basin  0.003768  \n",
      "\n",
      "[41434 rows x 11 columns]\n"
     ]
    }
   ],
   "source": [
    "# # Get EGN shapefiles to geodataframe\n",
    "# for i, f in enumerate(egnShpFiles):\n",
    "#     df = getShp(f)\n",
    "#     if i == 0:\n",
    "#         egnAll = df\n",
    "#     else:\n",
    "#         egnAll = pd.concat([egnAll, df], ignore_index=True)\n",
    "\n",
    "# print(egnAll)"
   ]
  },
  {
   "cell_type": "code",
   "execution_count": 42,
   "metadata": {},
   "outputs": [
    {
     "name": "stdout",
     "output_type": "stream",
     "text": [
      "       Substrate          Name      Area_m  ORIG_FID  Shape_Leng  Shape_Area  \\\n",
      "0            1.0  Fines Ripple   33.146532         1   33.521692   33.146532   \n",
      "1            1.0  Fines Ripple  936.237783         4  273.382980  936.237783   \n",
      "2            1.0  Fines Ripple   37.598220         5   59.747814   37.598220   \n",
      "3            1.0  Fines Ripple  159.851689         9   68.702608  159.851689   \n",
      "4            1.0  Fines Ripple   34.731836        15   26.603827   34.731836   \n",
      "...          ...           ...         ...       ...         ...         ...   \n",
      "39335        6.0         Other   58.050255     21370   48.066846   58.050255   \n",
      "39336        6.0         Other   51.665556     21372   95.006057   51.665556   \n",
      "39337        6.0         Other   28.808853     21376   67.508822   28.808853   \n",
      "39338        6.0         Other  114.494662     21378  189.667690  114.494662   \n",
      "39339        6.0         Other   29.376620     21379   34.995228   29.376620   \n",
      "\n",
      "                                                geometry river model  \\\n",
      "0      POLYGON ((228781.250 3385067.750, 228781.500 3...   BCH   Raw   \n",
      "1      POLYGON ((228845.250 3385236.750, 228845.188 3...   BCH   Raw   \n",
      "2      POLYGON ((228894.889 3385328.182, 228895.565 3...   BCH   Raw   \n",
      "3      POLYGON ((228050.250 3385581.000, 228050.340 3...   BCH   Raw   \n",
      "4      POLYGON ((227819.250 3386550.125, 227819.409 3...   BCH   Raw   \n",
      "...                                                  ...   ...   ...   \n",
      "39335  POLYGON ((208847.051 3587432.282, 208847.408 3...   PRL   Raw   \n",
      "39336  POLYGON ((208838.032 3587455.508, 208838.276 3...   PRL   Raw   \n",
      "39337  POLYGON ((208829.691 3587543.219, 208827.753 3...   PRL   Raw   \n",
      "39338  POLYGON ((210448.311 3587632.670, 210460.520 3...   PRL   Raw   \n",
      "39339  POLYGON ((208843.636 3587795.866, 208843.223 3...   PRL   Raw   \n",
      "\n",
      "             basin   Area_ha  \n",
      "0      Pearl Basin  0.003315  \n",
      "1      Pearl Basin  0.093624  \n",
      "2      Pearl Basin  0.003760  \n",
      "3      Pearl Basin  0.015985  \n",
      "4      Pearl Basin  0.003473  \n",
      "...            ...       ...  \n",
      "39335  Pearl Basin  0.005805  \n",
      "39336  Pearl Basin  0.005167  \n",
      "39337  Pearl Basin  0.002881  \n",
      "39338  Pearl Basin  0.011449  \n",
      "39339  Pearl Basin  0.002938  \n",
      "\n",
      "[39340 rows x 11 columns]\n"
     ]
    }
   ],
   "source": [
    "# Get raw shapefiles to gdf\n",
    "for i, f in enumerate(rawShpFiles):\n",
    "    df = getShp(f)\n",
    "    if i == 0:\n",
    "        rawAll = df\n",
    "    else:\n",
    "        rawAll = pd.concat([rawAll, df], ignore_index=True)\n",
    "\n",
    "print(rawAll)"
   ]
  },
  {
   "cell_type": "markdown",
   "metadata": {},
   "source": [
    "# Find the total mapped area for the study. \n",
    "Use the Raw shapefile"
   ]
  },
  {
   "cell_type": "code",
   "execution_count": 56,
   "metadata": {},
   "outputs": [],
   "source": [
    "df = rawAll"
   ]
  },
  {
   "cell_type": "code",
   "execution_count": 60,
   "metadata": {},
   "outputs": [
    {
     "name": "stdout",
     "output_type": "stream",
     "text": [
      "Total Mapped Area: 7425.0\n"
     ]
    }
   ],
   "source": [
    "# Total mapped area\n",
    "totalArea = np.sum(df['Area_ha'].to_numpy())\n",
    "print('Total Mapped Area:', np.around(totalArea, 0))"
   ]
  },
  {
   "cell_type": "code",
   "execution_count": 62,
   "metadata": {},
   "outputs": [
    {
     "name": "stdout",
     "output_type": "stream",
     "text": [
      "Pascagoula Mapped Area: 3262.0\n"
     ]
    }
   ],
   "source": [
    "# Pascagoula basin total area\n",
    "pasTotalArea = np.sum(df.loc[df['basin'] == 'Pascagoula Basin', 'Area_ha'].to_numpy())\n",
    "print('Pascagoula Mapped Area:', np.around(pasTotalArea, 0))"
   ]
  },
  {
   "cell_type": "code",
   "execution_count": 63,
   "metadata": {},
   "outputs": [
    {
     "name": "stdout",
     "output_type": "stream",
     "text": [
      "Pearl Mapped Area 4163.0\n"
     ]
    }
   ],
   "source": [
    "# Pearl basin total area\n",
    "prlTotalArea = np.sum(df.loc[df['basin'] == 'Pearl Basin', 'Area_ha'].to_numpy())\n",
    "print('Pearl Mapped Area:', np.around(prlTotalArea, 0))"
   ]
  },
  {
   "cell_type": "code",
   "execution_count": 66,
   "metadata": {},
   "outputs": [
    {
     "name": "stdout",
     "output_type": "stream",
     "text": [
      "BCH Mapped Area: 569.0\n",
      "BOU Mapped Area: 115.0\n",
      "CHI Mapped Area: 1421.0\n",
      "CHU Mapped Area: 89.0\n",
      "LEA Mapped Area: 1159.0\n",
      "PAS Mapped Area: 478.0\n",
      "PRL Mapped Area: 3595.0\n"
     ]
    }
   ],
   "source": [
    "# Find each rivers mapped area\n",
    "riv = df['river'].unique()\n",
    "rivAreaTotal = {}\n",
    "for r in riv:\n",
    "    t = np.sum(df.loc[df['river'] == r, 'Area_ha'].to_numpy())\n",
    "    rivAreaTotal[r] = np.around(t, 0)\n",
    "\n",
    "for k, v in rivAreaTotal.items():\n",
    "    print(k, 'Mapped Area:', v)\n"
   ]
  },
  {
   "cell_type": "markdown",
   "metadata": {},
   "source": [
    "# Get Polygon Counts and Proportions\n",
    "Work on Raw shapefile first"
   ]
  },
  {
   "cell_type": "code",
   "execution_count": 145,
   "metadata": {},
   "outputs": [],
   "source": [
    "df = rawAll"
   ]
  },
  {
   "cell_type": "code",
   "execution_count": 146,
   "metadata": {},
   "outputs": [
    {
     "name": "stdout",
     "output_type": "stream",
     "text": [
      "   river       substrate  total_poly  min_poly_m  max_poly_m  total_poly_m\n",
      "0    BCH    Fines Ripple         502        28.3    248236.1     2944289.3\n",
      "1    BCH      Fines Flat        1478        28.0     87160.8     2387136.1\n",
      "2    BCH  Cobble Boulder         184        28.4      2187.9       33248.4\n",
      "3    BCH     Hard Bottom         242        28.7      3840.9       84291.0\n",
      "4    BCH            Wood        1167        28.5      2595.8      194088.4\n",
      "5    BCH           Other         591        28.0       382.1       42993.1\n",
      "6    BOU    Fines Ripple          21        28.5    233683.5      581552.4\n",
      "7    BOU      Fines Flat         442        28.6     59356.0      436855.8\n",
      "8    BOU  Cobble Boulder          81        31.0      1072.6       14333.2\n",
      "9    BOU     Hard Bottom         144        28.5      9478.8       78623.0\n",
      "10   BOU            Wood         234        28.9       976.9       33250.9\n",
      "11   BOU           Other          70        29.2       205.7        4310.7\n",
      "12   CHI    Fines Ripple         536        28.4   1945386.2    10248005.1\n",
      "13   CHI      Fines Flat        2853        28.0     79015.5     2715655.3\n",
      "14   CHI  Cobble Boulder         334        28.5      2763.4       65790.1\n",
      "15   CHI     Hard Bottom        1137        28.4     16434.3      656220.9\n",
      "16   CHI            Wood        1604        28.1      8379.9      373256.3\n",
      "17   CHI           Other        1765        28.1      1202.9      148370.1\n",
      "18   CHU    Fines Ripple         107        29.3     16378.7      172472.4\n",
      "19   CHU      Fines Flat         334        28.1     33478.2      260728.6\n",
      "20   CHU  Cobble Boulder          83        29.9       681.7        9257.7\n",
      "21   CHU     Hard Bottom         204        29.0    132317.9      432919.7\n",
      "22   CHU            Wood          90        29.6       960.4        8538.2\n",
      "23   CHU           Other          52        28.4       123.3        2764.8\n",
      "24   LEA    Fines Ripple         299        28.5   1135129.3     8880889.3\n",
      "25   LEA      Fines Flat        2460        28.2     54047.5     1878074.7\n",
      "26   LEA  Cobble Boulder         258        29.3      1844.6       55684.9\n",
      "27   LEA     Hard Bottom         616        28.3     16233.7      440790.0\n",
      "28   LEA            Wood        1260        28.1      4360.9      271301.0\n",
      "29   LEA           Other         815        28.0       650.2       61729.0\n",
      "30   PAS    Fines Ripple         116        29.6   1890846.4     3903865.0\n",
      "31   PAS      Fines Flat         782        28.2     36966.5      708558.1\n",
      "32   PAS  Cobble Boulder          27        34.0       478.2        3680.1\n",
      "33   PAS     Hard Bottom         103        29.7      3856.9       25979.5\n",
      "34   PAS            Wood         365        28.1      6157.7      123813.2\n",
      "35   PAS           Other         238        28.3       654.1       17737.9\n",
      "36   PRL    Fines Ripple        2473        28.1   3845957.9    19026778.4\n",
      "37   PRL      Fines Flat        4722        28.0    336637.5    13994671.1\n",
      "38   PRL  Cobble Boulder         880        28.0      4235.2      156327.4\n",
      "39   PRL     Hard Bottom        3089        28.0     63067.9     1470276.1\n",
      "40   PRL            Wood        5353        28.0      5276.9     1195883.0\n",
      "41   PRL           Other        1229        28.0      1201.3      103594.0\n"
     ]
    }
   ],
   "source": [
    "shpTotal = pd.DataFrame()\n",
    "rivers = df['river'].unique()\n",
    "substrate = df['Name'].unique()\n",
    "\n",
    "for r in rivers:\n",
    "    sub = {}\n",
    "    for s in substrate:\n",
    "        sub['river'] = [r]\n",
    "        sub['substrate'] = [s]\n",
    "        dfSlice = df.loc[(df['river'] == r) & (df['Name'] == s), ['Area_m']]\n",
    "\n",
    "        sub['total_poly'] = [len(dfSlice)]\n",
    "        sub['min_poly_m'] = [np.around(np.min(dfSlice), 1)]\n",
    "        sub['max_poly_m'] = [np.around(np.max(dfSlice), 1)]\n",
    "        sub['total_poly_m'] = [np.around(np.sum(dfSlice['Area_m']), 1)]\n",
    "        \n",
    "        sub = pd.DataFrame.from_dict(sub)\n",
    "        shpTotal = pd.concat([shpTotal, sub], ignore_index=True)\n",
    "\n",
    "    \n",
    "print(shpTotal)       \n"
   ]
  },
  {
   "cell_type": "code",
   "execution_count": 147,
   "metadata": {},
   "outputs": [
    {
     "name": "stdout",
     "output_type": "stream",
     "text": [
      "Raw\n",
      "Model Polygon Summary\n",
      "Total Polygons: 39340 \tMin Area: 28.0 \tMax Area: 3845957.9 \n",
      "\n",
      "\n",
      "BCH \tTotal Polygons: 4164 \tMin Area: 28.0 \tMax Area: 248236.1\n",
      "\n",
      "\n",
      "\n",
      "BOU \tTotal Polygons: 992 \tMin Area: 28.5 \tMax Area: 233683.5\n",
      "\n",
      "\n",
      "\n",
      "CHI \tTotal Polygons: 8229 \tMin Area: 28.0 \tMax Area: 1945386.2\n",
      "\n",
      "\n",
      "\n",
      "CHU \tTotal Polygons: 870 \tMin Area: 28.1 \tMax Area: 132317.9\n",
      "\n",
      "\n",
      "\n",
      "LEA \tTotal Polygons: 5708 \tMin Area: 28.0 \tMax Area: 1135129.3\n",
      "\n",
      "\n",
      "\n",
      "PAS \tTotal Polygons: 1631 \tMin Area: 28.1 \tMax Area: 1890846.4\n",
      "\n",
      "\n",
      "\n",
      "PRL \tTotal Polygons: 17746 \tMin Area: 28.0 \tMax Area: 3845957.9\n",
      "\n",
      "\n",
      "\n",
      "substrate  Cobble Boulder  Fines Flat  Fines Ripple  Hard Bottom  Other  Wood  \\\n",
      "river                                                                           \n",
      "BCH                   0.6        42.0          51.8          1.5    0.8   3.4   \n",
      "BOU                   1.2        38.0          50.6          6.8    0.4   2.9   \n",
      "CHI                   0.5        19.1          72.1          4.6    1.0   2.6   \n",
      "CHU                   1.0        29.4          19.5         48.8    0.3   1.0   \n",
      "LEA                   0.5        16.2          76.6          3.8    0.5   2.3   \n",
      "PAS                   0.1        14.8          81.6          0.5    0.4   2.6   \n",
      "PRL                   0.4        38.9          52.9          4.1    0.3   3.3   \n",
      "\n",
      "substrate     total_m  Soft  Hard  \n",
      "river                              \n",
      "BCH         5686046.3  93.8   2.1  \n",
      "BOU         1148926.0  88.6   8.0  \n",
      "CHI        14207297.8  91.2   5.1  \n",
      "CHU          886681.4  48.9  49.8  \n",
      "LEA        11588468.9  92.8   4.3  \n",
      "PAS         4783633.8  96.4   0.6  \n",
      "PRL        35947530.0  91.8   4.5  \n"
     ]
    }
   ],
   "source": [
    "print('Raw')\n",
    "print('Model Polygon Summary')\n",
    "df = shpTotal\n",
    "\n",
    "t = np.sum(df['total_poly'].to_numpy())\n",
    "min = np.min(df['min_poly_m'].to_numpy())\n",
    "max = np.max(df['max_poly_m'].to_numpy())\n",
    "\n",
    "print('Total Polygons:', t, '\\tMin Area:', min, '\\tMax Area:', max, '\\n\\n')\n",
    "\n",
    "shpProp = pd.DataFrame()\n",
    "rivers = df['river'].unique()\n",
    "for r in rivers:\n",
    "    dfSlice = df.loc[df['river'] == r]\n",
    "\n",
    "    t = np.sum(dfSlice['total_poly'].to_numpy())\n",
    "    min = np.min(dfSlice['min_poly_m'].to_numpy())\n",
    "    max = np.max(dfSlice['max_poly_m'].to_numpy())\n",
    "\n",
    "    print(r, '\\tTotal Polygons:', t, '\\tMin Area:', min, '\\tMax Area:', max)\n",
    "\n",
    "    dfSlice = dfSlice.pivot(index='river', columns=['substrate'])['total_poly_m']\n",
    "    shpProp = pd.concat([shpProp, dfSlice])\n",
    "\n",
    "    print('\\n\\n')\n",
    "\n",
    "substrates = shpProp.columns\n",
    "shpProp['total_m'] = shpProp.sum(axis=1)\n",
    "\n",
    "for s in substrates:\n",
    "    shpProp[s] = np.around((shpProp[s]/shpProp['total_m'])*100, 1)\n",
    "shpProp['Soft'] = shpProp['Fines Flat'] + shpProp['Fines Ripple']\n",
    "shpProp['Hard'] = shpProp['Cobble Boulder'] + shpProp['Hard Bottom']\n",
    "print(shpProp)\n",
    "\n",
    "rawFR = shpProp['Fines Ripple']\n",
    "rawFF = shpProp['Fines Flat']\n",
    "rawCB = shpProp['Cobble Boulder']\n",
    "rawHB = shpProp['Hard Bottom']\n",
    "rawWD = shpProp['Wood']\n",
    "rawSoft = shpProp['Soft']\n",
    "rawHard = shpProp['Hard']\n"
   ]
  },
  {
   "cell_type": "markdown",
   "metadata": {},
   "source": [
    "Now do EGN"
   ]
  },
  {
   "cell_type": "code",
   "execution_count": 151,
   "metadata": {},
   "outputs": [],
   "source": [
    "df = egnAll"
   ]
  },
  {
   "cell_type": "code",
   "execution_count": 152,
   "metadata": {},
   "outputs": [
    {
     "name": "stdout",
     "output_type": "stream",
     "text": [
      "   river       substrate  total_poly  min_poly_m  max_poly_m  total_poly_m\n",
      "0    BCH    Fines Ripple         644        28.6    239637.6     2652154.7\n",
      "1    BCH      Fines Flat        1583        28.0     82506.1     2672881.4\n",
      "2    BCH  Cobble Boulder         264        29.5      2019.4       44536.8\n",
      "3    BCH     Hard Bottom         235        28.4      2407.2       56993.8\n",
      "4    BCH            Wood        1333        28.6      3743.5      261013.9\n",
      "5    BCH           Other          60        28.0       340.5        4043.0\n",
      "6    BOU    Fines Ripple          60        31.3    107950.2      549463.1\n",
      "7    BOU      Fines Flat         428        28.0     60761.9      499526.2\n",
      "8    BOU  Cobble Boulder          67        28.1       805.4        9002.1\n",
      "9    BOU     Hard Bottom         130        30.4      8704.4       52907.2\n",
      "10   BOU            Wood         246        28.4       919.3       36800.8\n",
      "11   BOU           Other           1        35.4        35.4          35.4\n",
      "12   CHI    Fines Ripple         855        28.1    765564.1     8641102.5\n",
      "13   CHI      Fines Flat        3157        28.0    524951.9     4340202.3\n",
      "14   CHI  Cobble Boulder         613        28.6      4121.2      158553.3\n",
      "15   CHI     Hard Bottom        1760        28.0     12925.9      442208.9\n",
      "16   CHI            Wood        1703        28.0      7800.7      513301.0\n",
      "17   CHI           Other         523        28.4      2451.0       81204.6\n",
      "18   CHU    Fines Ripple         160        31.1     11103.5      144729.5\n",
      "19   CHU      Fines Flat         180        29.1    123872.0      576854.5\n",
      "20   CHU  Cobble Boulder          35        29.6       200.9        2441.1\n",
      "21   CHU     Hard Bottom         341        29.6     11554.1      152391.9\n",
      "22   CHU            Wood          76        29.4       969.7       10319.1\n",
      "23   CHU           Other           0         0.0         0.0           0.0\n",
      "24   LEA    Fines Ripple         439        28.7    500647.6     7967191.5\n",
      "25   LEA      Fines Flat        2966        28.1     54734.4     2701593.8\n",
      "26   LEA  Cobble Boulder         425        28.7      4276.5      100016.3\n",
      "27   LEA     Hard Bottom         974        28.3     10670.0      340222.2\n",
      "28   LEA            Wood        1501        28.1      8241.6      415014.9\n",
      "29   LEA           Other         304        28.1      2471.9       57817.9\n",
      "30   PAS    Fines Ripple         120        30.4   1147217.0     3523741.5\n",
      "31   PAS      Fines Flat         948        28.3     34349.4      807814.1\n",
      "32   PAS  Cobble Boulder         536        28.5      9138.6      149420.2\n",
      "33   PAS     Hard Bottom         183        28.3      2403.1       27332.0\n",
      "34   PAS            Wood         473        29.4      7652.3      267505.8\n",
      "35   PAS           Other         114        28.1      1049.9       10035.4\n",
      "36   PRL    Fines Ripple        2428        28.2   1964414.8    17299633.2\n",
      "37   PRL      Fines Flat        4560        28.0    582013.6    16020006.8\n",
      "38   PRL  Cobble Boulder        1629        28.0      6905.8      318641.0\n",
      "39   PRL     Hard Bottom        3452        28.1     35972.8     1217750.7\n",
      "40   PRL            Wood        5845        28.1      5981.9     1086656.6\n",
      "41   PRL           Other          83        28.5       185.5        5504.8\n"
     ]
    }
   ],
   "source": [
    "shpTotal = pd.DataFrame()\n",
    "rivers = df['river'].unique()\n",
    "substrate = df['Name'].unique()\n",
    "\n",
    "for r in rivers:\n",
    "    sub = {}\n",
    "    for s in substrate:\n",
    "        sub['river'] = [r]\n",
    "        sub['substrate'] = [s]\n",
    "        dfSlice = df.loc[(df['river'] == r) & (df['Name'] == s), ['Area_m']]\n",
    "\n",
    "        sub['total_poly'] = [len(dfSlice)]\n",
    "        sub['min_poly_m'] = [np.around(np.min(dfSlice), 1)]\n",
    "        sub['max_poly_m'] = [np.around(np.max(dfSlice), 1)]\n",
    "        sub['total_poly_m'] = [np.around(np.sum(dfSlice['Area_m']), 1)]\n",
    "        \n",
    "        sub = pd.DataFrame.from_dict(sub)\n",
    "        shpTotal = pd.concat([shpTotal, sub], ignore_index=True)\n",
    "\n",
    "shpTotal = shpTotal.fillna(0)\n",
    "print(shpTotal)   "
   ]
  },
  {
   "cell_type": "code",
   "execution_count": 153,
   "metadata": {},
   "outputs": [
    {
     "name": "stdout",
     "output_type": "stream",
     "text": [
      "EGN\n",
      "Model Polygon Summary\n",
      "Total Polygons: 41434 \tMin Area: 0.0 \tMax Area: 1964414.8 \n",
      "\n",
      "\n",
      "BCH \tTotal Polygons: 4119 \tMin Area: 28.0 \tMax Area: 239637.6\n",
      "\n",
      "\n",
      "\n",
      "BOU \tTotal Polygons: 932 \tMin Area: 28.0 \tMax Area: 107950.2\n",
      "\n",
      "\n",
      "\n",
      "CHI \tTotal Polygons: 8611 \tMin Area: 28.0 \tMax Area: 765564.1\n",
      "\n",
      "\n",
      "\n",
      "CHU \tTotal Polygons: 792 \tMin Area: 0.0 \tMax Area: 123872.0\n",
      "\n",
      "\n",
      "\n",
      "LEA \tTotal Polygons: 6609 \tMin Area: 28.1 \tMax Area: 500647.6\n",
      "\n",
      "\n",
      "\n",
      "PAS \tTotal Polygons: 2374 \tMin Area: 28.1 \tMax Area: 1147217.0\n",
      "\n",
      "\n",
      "\n",
      "PRL \tTotal Polygons: 17997 \tMin Area: 28.0 \tMax Area: 1964414.8\n",
      "\n",
      "\n",
      "\n",
      "substrate  Cobble Boulder  Fines Flat  Fines Ripple  Hard Bottom  Other  Wood  \\\n",
      "river                                                                           \n",
      "BCH                   0.8        47.0          46.6          1.0    0.1   4.6   \n",
      "BOU                   0.8        43.5          47.9          4.6    0.0   3.2   \n",
      "CHI                   1.1        30.6          61.0          3.1    0.6   3.6   \n",
      "CHU                   0.3        65.1          16.3         17.2    0.0   1.2   \n",
      "LEA                   0.9        23.3          68.8          2.9    0.5   3.6   \n",
      "PAS                   3.1        16.9          73.6          0.6    0.2   5.6   \n",
      "PRL                   0.9        44.6          48.1          3.4    0.0   3.0   \n",
      "\n",
      "substrate     total_m  Soft  Hard  \n",
      "river                              \n",
      "BCH         5691623.6  93.6   1.8  \n",
      "BOU         1147734.8  91.4   5.4  \n",
      "CHI        14176572.6  91.6   4.2  \n",
      "CHU          886736.1  81.4  17.5  \n",
      "LEA        11581856.6  92.1   3.8  \n",
      "PAS         4785849.0  90.5   3.7  \n",
      "PRL        35948193.1  92.7   4.3  \n"
     ]
    }
   ],
   "source": [
    "print('EGN')\n",
    "print('Model Polygon Summary')\n",
    "df = shpTotal\n",
    "\n",
    "t = np.sum(df['total_poly'].to_numpy())\n",
    "min = np.min(df['min_poly_m'].to_numpy())\n",
    "max = np.max(df['max_poly_m'].to_numpy())\n",
    "\n",
    "print('Total Polygons:', t, '\\tMin Area:', min, '\\tMax Area:', max, '\\n\\n')\n",
    "\n",
    "shpProp = pd.DataFrame()\n",
    "rivers = df['river'].unique()\n",
    "for r in rivers:\n",
    "    dfSlice = df.loc[df['river'] == r]\n",
    "\n",
    "    t = np.sum(dfSlice['total_poly'].to_numpy())\n",
    "    min = np.min(dfSlice['min_poly_m'].to_numpy())\n",
    "    max = np.max(dfSlice['max_poly_m'].to_numpy())\n",
    "\n",
    "    print(r, '\\tTotal Polygons:', t, '\\tMin Area:', min, '\\tMax Area:', max)\n",
    "\n",
    "    dfSlice = dfSlice.pivot(index='river', columns=['substrate'])['total_poly_m']\n",
    "    shpProp = pd.concat([shpProp, dfSlice])\n",
    "\n",
    "    print('\\n\\n')\n",
    "\n",
    "substrates = shpProp.columns\n",
    "shpProp['total_m'] = shpProp.sum(axis=1)\n",
    "\n",
    "for s in substrates:\n",
    "    shpProp[s] = np.around((shpProp[s]/shpProp['total_m'])*100, 1)\n",
    "shpProp['Soft'] = shpProp['Fines Flat'] + shpProp['Fines Ripple']\n",
    "shpProp['Hard'] = shpProp['Cobble Boulder'] + shpProp['Hard Bottom']\n",
    "print(shpProp)\n",
    "\n",
    "egnFR = shpProp['Fines Ripple']\n",
    "egnFF = shpProp['Fines Flat']\n",
    "egnCB = shpProp['Cobble Boulder']\n",
    "egnHB = shpProp['Hard Bottom']\n",
    "egnWD = shpProp['Wood']\n",
    "egnSoft = shpProp['Soft']\n",
    "egnHard = shpProp['Hard']"
   ]
  },
  {
   "cell_type": "markdown",
   "metadata": {},
   "source": [
    "Overall proportion difference per river per substrate"
   ]
  },
  {
   "cell_type": "code",
   "execution_count": 159,
   "metadata": {},
   "outputs": [
    {
     "name": "stdout",
     "output_type": "stream",
     "text": [
      "Fines Ripple\n",
      "       Fines Ripple  Fines Ripple   dif\n",
      "river                                  \n",
      "BCH            51.8          46.6   5.2\n",
      "BOU            50.6          47.9   2.7\n",
      "CHI            72.1          61.0  11.1\n",
      "CHU            19.5          16.3   3.2\n",
      "LEA            76.6          68.8   7.8\n",
      "PAS            81.6          73.6   8.0\n",
      "PRL            52.9          48.1   4.8\n",
      "\n",
      "\n",
      "\n",
      "Fines Flat\n",
      "       Fines Flat  Fines Flat   dif\n",
      "river                              \n",
      "BCH          42.0        47.0  -5.0\n",
      "BOU          38.0        43.5  -5.5\n",
      "CHI          19.1        30.6 -11.5\n",
      "CHU          29.4        65.1 -35.7\n",
      "LEA          16.2        23.3  -7.1\n",
      "PAS          14.8        16.9  -2.1\n",
      "PRL          38.9        44.6  -5.7\n",
      "\n",
      "\n",
      "\n",
      "Cobble Boulder\n",
      "       Cobble Boulder  Cobble Boulder  dif\n",
      "river                                     \n",
      "BCH               0.6             0.8 -0.2\n",
      "BOU               1.2             0.8  0.4\n",
      "CHI               0.5             1.1 -0.6\n",
      "CHU               1.0             0.3  0.7\n",
      "LEA               0.5             0.9 -0.4\n",
      "PAS               0.1             3.1 -3.0\n",
      "PRL               0.4             0.9 -0.5\n",
      "\n",
      "\n",
      "\n",
      "Hard Bottom\n",
      "       Hard Bottom  Hard Bottom   dif\n",
      "river                                \n",
      "BCH            1.5          1.0   0.5\n",
      "BOU            6.8          4.6   2.2\n",
      "CHI            4.6          3.1   1.5\n",
      "CHU           48.8         17.2  31.6\n",
      "LEA            3.8          2.9   0.9\n",
      "PAS            0.5          0.6  -0.1\n",
      "PRL            4.1          3.4   0.7\n",
      "\n",
      "\n",
      "\n",
      "Wood\n",
      "       Wood  Wood  dif\n",
      "river                 \n",
      "BCH     3.4   4.6 -1.2\n",
      "BOU     2.9   3.2 -0.3\n",
      "CHI     2.6   3.6 -1.0\n",
      "CHU     1.0   1.2 -0.2\n",
      "LEA     2.3   3.6 -1.3\n",
      "PAS     2.6   5.6 -3.0\n",
      "PRL     3.3   3.0  0.3\n",
      "\n",
      "\n",
      "\n",
      "Soft\n",
      "       Soft  Soft   dif\n",
      "river                  \n",
      "BCH    93.8  93.6   0.2\n",
      "BOU    88.6  91.4  -2.8\n",
      "CHI    91.2  91.6  -0.4\n",
      "CHU    48.9  81.4 -32.5\n",
      "LEA    92.8  92.1   0.7\n",
      "PAS    96.4  90.5   5.9\n",
      "PRL    91.8  92.7  -0.9\n",
      "\n",
      "\n",
      "\n",
      "Hard\n",
      "       Hard  Hard   dif\n",
      "river                  \n",
      "BCH     2.1   1.8   0.3\n",
      "BOU     8.0   5.4   2.6\n",
      "CHI     5.1   4.2   0.9\n",
      "CHU    49.8  17.5  32.3\n",
      "LEA     4.3   3.8   0.5\n",
      "PAS     0.6   3.7  -3.1\n",
      "PRL     4.5   4.3   0.2\n",
      "\n",
      "\n",
      "\n"
     ]
    }
   ],
   "source": [
    "c = ['Fines Ripple', 'Fines Flat', 'Cobble Boulder', 'Hard Bottom', 'Wood', 'Soft', 'Hard']\n",
    "r = [rawFR, rawFF, rawCB, rawHB, rawWD, rawSoft, rawHard]\n",
    "e = [egnFR, egnFF, egnCB, egnHB, egnWD, egnSoft, egnHard]\n",
    "\n",
    "for sub, raw, egn in zip(c, r, e):\n",
    "    d = pd.concat([raw, egn], axis=1)\n",
    "    d['dif'] = raw-egn\n",
    "    print(sub)\n",
    "    print(d)\n",
    "    print('\\n\\n')"
   ]
  }
 ],
 "metadata": {
  "kernelspec": {
   "display_name": "ping",
   "language": "python",
   "name": "python3"
  },
  "language_info": {
   "codemirror_mode": {
    "name": "ipython",
    "version": 3
   },
   "file_extension": ".py",
   "mimetype": "text/x-python",
   "name": "python",
   "nbconvert_exporter": "python",
   "pygments_lexer": "ipython3",
   "version": "3.12.11"
  }
 },
 "nbformat": 4,
 "nbformat_minor": 2
}
